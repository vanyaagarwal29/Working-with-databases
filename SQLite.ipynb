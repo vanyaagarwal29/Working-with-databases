{
 "cells": [
  {
   "cell_type": "code",
   "execution_count": 1,
   "id": "28b0c195",
   "metadata": {},
   "outputs": [],
   "source": [
    "import sqlite3"
   ]
  },
  {
   "cell_type": "code",
   "execution_count": 2,
   "id": "4cc90744",
   "metadata": {},
   "outputs": [],
   "source": [
    "db=sqlite3.connect('test.db')"
   ]
  },
  {
   "cell_type": "code",
   "execution_count": 3,
   "id": "5e31d842",
   "metadata": {},
   "outputs": [],
   "source": [
    "c=db.cursor()"
   ]
  },
  {
   "cell_type": "code",
   "execution_count": 4,
   "id": "c31d4bd7",
   "metadata": {},
   "outputs": [
    {
     "data": {
      "text/plain": [
       "<sqlite3.Cursor at 0x19e6dec9110>"
      ]
     },
     "execution_count": 4,
     "metadata": {},
     "output_type": "execute_result"
    }
   ],
   "source": [
    "c.execute(\"create table student(text, marks real, batchid int)\")"
   ]
  },
  {
   "cell_type": "code",
   "execution_count": 6,
   "id": "c2485786",
   "metadata": {},
   "outputs": [
    {
     "name": "stdout",
     "output_type": "stream",
     "text": [
      " Volume in drive C is OS\n",
      " Volume Serial Number is E4E7-041A\n",
      "\n",
      " Directory of C:\\Users\\DELL\n",
      "\n",
      "13-12-2022  20:29         2,461,386  Quora Question Pairs.ipynb\n",
      "19-01-2023  09:37    <DIR>          .\n",
      "26-12-2021  21:12    <DIR>          ..\n",
      "15-09-2020  10:47    <DIR>          .android\n",
      "18-01-2023  02:32    <DIR>          .conda\n",
      "10-10-2021  13:44                25 .condarc\n",
      "24-07-2020  13:52    <DIR>          .config\n",
      "10-10-2021  13:43    <DIR>          .continuum\n",
      "24-07-2020  13:52    <DIR>          .eclipse\n",
      "15-01-2022  23:33                64 .gitconfig\n",
      "15-09-2020  10:25    <DIR>          .idlerc\n",
      "19-01-2023  09:37    <DIR>          .ipynb_checkpoints\n",
      "10-10-2021  13:59    <DIR>          .ipython\n",
      "11-10-2021  22:13    <DIR>          .jupyter\n",
      "02-10-2021  21:48    <DIR>          .keras\n",
      "23-06-2022  00:03                20 .lesshst\n",
      "25-06-2022  11:47    <DIR>          .matplotlib\n",
      "28-12-2021  12:25    <DIR>          .p2\n",
      "04-09-2022  11:56                29 .python_history\n",
      "07-11-2022  01:46    <DIR>          .spyder-py3\n",
      "24-07-2020  13:52    <DIR>          .tooling\n",
      "19-05-2021  14:52    <DIR>          .vscode\n",
      "10-08-2020  00:08    <DIR>          3D Objects\n",
      "04-01-2023  16:39    <DIR>          anaconda3\n",
      "28-07-2020  21:47    <DIR>          ansel\n",
      "10-12-2021  01:12    <DIR>          AppMods\n",
      "26-12-2021  21:23    <DIR>          Contacts\n",
      "13-01-2023  21:57    <DIR>          Desktop\n",
      "05-10-2022  18:59        76,503,650 df_fe_without_preprocessing_train.csv\n",
      "23-08-2022  15:43    <DIR>          Documents\n",
      "18-01-2023  23:09    <DIR>          Downloads\n",
      "24-07-2020  13:50    <DIR>          eclipse\n",
      "24-07-2020  13:54    <DIR>          eclipse-workspace\n",
      "26-12-2021  21:23    <DIR>          Favorites\n",
      "15-01-2023  13:44            11,903 glass (1).data\n",
      "15-01-2023  13:54            11,903 glass.data\n",
      "11-09-2021  21:13    <DIR>          har\n",
      "17-09-2020  11:56    <DIR>          IdeaProjects\n",
      "07-09-2022  01:46    <DIR>          Jedi\n",
      "26-12-2021  21:23    <DIR>          Links\n",
      "06-09-2022  23:33    <DIR>          ML Projects\n",
      "18-01-2023  01:45            17,324 Mongodb Introduction.ipynb\n",
      "28-12-2022  18:55    <DIR>          Music\n",
      "16-10-2022  12:34       120,274,028 nlp_features_train.csv\n",
      "15-01-2022  10:44    <DIR>          OneDrive\n",
      "04-01-2023  16:48         1,035,574 output.html\n",
      "15-12-2022  14:01            21,234 Personalized Cancer Diagnosis.ipynb\n",
      "26-12-2021  21:23    <DIR>          Pictures\n",
      "06-09-2022  23:51    <DIR>          PycharmProjects\n",
      "18-06-2022  11:10    <DIR>          python pratice programs\n",
      "17-01-2022  20:47    <DIR>          Python3.8\n",
      "07-09-2022  14:05    <DIR>          pythonProject\n",
      "14-01-2023  19:27    <DIR>          pythonProject1\n",
      "25-01-2022  12:34                27 README.md\n",
      "10-12-2021  01:12    <DIR>          Recorded Calls\n",
      "26-12-2021  21:23    <DIR>          Saved Games\n",
      "04-01-2023  16:55    <DIR>          seaborn-data\n",
      "26-12-2021  21:23    <DIR>          Searches\n",
      "15-01-2023  21:08            55,610 SQL Part 2.ipynb\n",
      "15-01-2023  19:52           102,444 SQL Part1.ipynb\n",
      "19-01-2023  09:37             6,181 SQLite.ipynb\n",
      "19-01-2023  09:37             8,192 test.db\n",
      "29-09-2022  01:44        63,399,110 train.csv\n",
      "13-12-2022  17:51        33,704,946 train_n.txt\n",
      "13-12-2022  17:51        16,408,412 train_p.txt\n",
      "13-12-2022  21:03       212,125,752 training_text\n",
      "13-12-2022  21:05            66,688 training_variants\n",
      "17-01-2023  23:08            64,837 Untitled.ipynb\n",
      "17-01-2023  23:12             1,104 Untitled2.ipynb\n",
      "25-07-2022  21:55    <DIR>          Videos\n",
      "10-12-2021  01:08    <DIR>          wekafiles\n",
      "              24 File(s)    526,280,443 bytes\n",
      "              47 Dir(s)  33,489,555,456 bytes free\n"
     ]
    }
   ],
   "source": [
    "ls\n"
   ]
  },
  {
   "cell_type": "code",
   "execution_count": 7,
   "id": "361c3054",
   "metadata": {},
   "outputs": [
    {
     "data": {
      "text/plain": [
       "<sqlite3.Cursor at 0x19e6dec9110>"
      ]
     },
     "execution_count": 7,
     "metadata": {},
     "output_type": "execute_result"
    }
   ],
   "source": [
    "c.execute(\"insert into student values('vanya', 34, 34353)\")"
   ]
  },
  {
   "cell_type": "code",
   "execution_count": 13,
   "id": "d30f5718",
   "metadata": {},
   "outputs": [],
   "source": [
    "data=c.execute(\"select * from student\")"
   ]
  },
  {
   "cell_type": "code",
   "execution_count": 14,
   "id": "4da346bd",
   "metadata": {},
   "outputs": [
    {
     "name": "stdout",
     "output_type": "stream",
     "text": [
      "('vanya', 34.0, 34353)\n"
     ]
    }
   ],
   "source": [
    "for i in data:\n",
    "    print(i)"
   ]
  },
  {
   "cell_type": "code",
   "execution_count": 15,
   "id": "dd73d188",
   "metadata": {},
   "outputs": [],
   "source": [
    "db.commit()"
   ]
  },
  {
   "cell_type": "code",
   "execution_count": 17,
   "id": "463776ad",
   "metadata": {},
   "outputs": [
    {
     "data": {
      "text/plain": [
       "<sqlite3.Cursor at 0x19e6dec9110>"
      ]
     },
     "execution_count": 17,
     "metadata": {},
     "output_type": "execute_result"
    }
   ],
   "source": [
    "c.execute(\"insert into student values('vanya', 34, 34353)\")\n",
    "c.execute(\"insert into student values('vanya', 34, 34353)\")\n",
    "c.execute(\"insert into student values('vanya', 34, 34353)\")\n",
    "c.execute(\"insert into student values('vanya', 34, 34353)\")\n",
    "c.execute(\"insert into student values('vanya', 34, 34353)\")\n",
    "c.execute(\"insert into student values('vanya', 34, 34353)\")"
   ]
  },
  {
   "cell_type": "code",
   "execution_count": 21,
   "id": "1b669358",
   "metadata": {},
   "outputs": [],
   "source": [
    "data1=c.execute(\"select * from student where marks>33\")\n"
   ]
  },
  {
   "cell_type": "code",
   "execution_count": 22,
   "id": "28fb899e",
   "metadata": {},
   "outputs": [
    {
     "name": "stdout",
     "output_type": "stream",
     "text": [
      "('vanya', 34.0, 34353)\n",
      "('vanya', 34.0, 34353)\n",
      "('vanya', 34.0, 34353)\n",
      "('vanya', 34.0, 34353)\n",
      "('vanya', 34.0, 34353)\n",
      "('vanya', 34.0, 34353)\n",
      "('vanya', 34.0, 34353)\n",
      "('vanya', 34.0, 34353)\n"
     ]
    }
   ],
   "source": [
    "for i in data1:\n",
    "    print(i)"
   ]
  },
  {
   "cell_type": "code",
   "execution_count": 24,
   "id": "861c0930",
   "metadata": {},
   "outputs": [],
   "source": [
    "data2=c.execute('select text, marks from student order by marks')"
   ]
  },
  {
   "cell_type": "code",
   "execution_count": 25,
   "id": "01d0948a",
   "metadata": {},
   "outputs": [
    {
     "name": "stdout",
     "output_type": "stream",
     "text": [
      "('vanya', 34.0)\n",
      "('vanya', 34.0)\n",
      "('vanya', 34.0)\n",
      "('vanya', 34.0)\n",
      "('vanya', 34.0)\n",
      "('vanya', 34.0)\n",
      "('vanya', 34.0)\n",
      "('vanya', 34.0)\n"
     ]
    }
   ],
   "source": [
    "for i in data2:\n",
    "    print(i)"
   ]
  },
  {
   "cell_type": "code",
   "execution_count": 26,
   "id": "f957d5e9",
   "metadata": {},
   "outputs": [],
   "source": [
    "db.close()"
   ]
  },
  {
   "cell_type": "code",
   "execution_count": 27,
   "id": "de15029f",
   "metadata": {},
   "outputs": [],
   "source": [
    "db=sqlite3.connect('person.db')"
   ]
  },
  {
   "cell_type": "code",
   "execution_count": 28,
   "id": "edc80ea3",
   "metadata": {},
   "outputs": [],
   "source": [
    "c=db.cursor()"
   ]
  },
  {
   "cell_type": "code",
   "execution_count": 29,
   "id": "86279b65",
   "metadata": {},
   "outputs": [
    {
     "data": {
      "text/plain": [
       "<sqlite3.Cursor at 0x19e6fce26c0>"
      ]
     },
     "execution_count": 29,
     "metadata": {},
     "output_type": "execute_result"
    }
   ],
   "source": [
    "c.execute(\"create table person_table(name, emailid text, age int, salary real)\")"
   ]
  },
  {
   "cell_type": "code",
   "execution_count": 30,
   "id": "9ad3d845",
   "metadata": {},
   "outputs": [
    {
     "data": {
      "text/plain": [
       "<sqlite3.Cursor at 0x19e6fce26c0>"
      ]
     },
     "execution_count": 30,
     "metadata": {},
     "output_type": "execute_result"
    }
   ],
   "source": [
    "c.execute(\"insert into person_table values('vanya', 'vanyaagarwal29@gmil.com', 23, 234455)\")\n",
    "c.execute(\"insert into person_table values('prashan', 'prashangarwal29@gmil.com', 45, 23445578)\")\n",
    "c.execute(\"insert into person_table values('milli', 'milliarwal29@gmil.com', 27, 344557)\")\n",
    "c.execute(\"insert into person_table values('tanni', 'tanniagarwal29@gmil.com', 25, 77234455)\")"
   ]
  },
  {
   "cell_type": "code",
   "execution_count": 31,
   "id": "5e1ef379",
   "metadata": {},
   "outputs": [],
   "source": [
    "db.commit()"
   ]
  },
  {
   "cell_type": "code",
   "execution_count": 32,
   "id": "a881a61e",
   "metadata": {},
   "outputs": [],
   "source": [
    "db.close()"
   ]
  },
  {
   "cell_type": "code",
   "execution_count": 33,
   "id": "8019350b",
   "metadata": {},
   "outputs": [],
   "source": [
    "db=sqlite3.connect('test.db')"
   ]
  },
  {
   "cell_type": "code",
   "execution_count": 34,
   "id": "d26fd748",
   "metadata": {},
   "outputs": [],
   "source": [
    "c=db.cursor()"
   ]
  },
  {
   "cell_type": "code",
   "execution_count": 35,
   "id": "9193c207",
   "metadata": {},
   "outputs": [
    {
     "data": {
      "text/plain": [
       "<sqlite3.Cursor at 0x19e6fcb2dc0>"
      ]
     },
     "execution_count": 35,
     "metadata": {},
     "output_type": "execute_result"
    }
   ],
   "source": [
    "c.execute('drop table student')"
   ]
  },
  {
   "cell_type": "code",
   "execution_count": 36,
   "id": "58e9fbee",
   "metadata": {},
   "outputs": [
    {
     "ename": "OperationalError",
     "evalue": "no such table: student",
     "output_type": "error",
     "traceback": [
      "\u001b[1;31m---------------------------------------------------------------------------\u001b[0m",
      "\u001b[1;31mOperationalError\u001b[0m                          Traceback (most recent call last)",
      "Input \u001b[1;32mIn [36]\u001b[0m, in \u001b[0;36m<cell line: 1>\u001b[1;34m()\u001b[0m\n\u001b[1;32m----> 1\u001b[0m \u001b[43mc\u001b[49m\u001b[38;5;241;43m.\u001b[39;49m\u001b[43mexecute\u001b[49m\u001b[43m(\u001b[49m\u001b[38;5;124;43m\"\u001b[39;49m\u001b[38;5;124;43mselect * from student\u001b[39;49m\u001b[38;5;124;43m\"\u001b[39;49m\u001b[43m)\u001b[49m\n",
      "\u001b[1;31mOperationalError\u001b[0m: no such table: student"
     ]
    }
   ],
   "source": [
    "c.execute(\"select * from student\")"
   ]
  },
  {
   "cell_type": "code",
   "execution_count": 37,
   "id": "b416221f",
   "metadata": {},
   "outputs": [],
   "source": [
    "db.close()"
   ]
  },
  {
   "cell_type": "code",
   "execution_count": 38,
   "id": "34a06f91",
   "metadata": {},
   "outputs": [],
   "source": [
    "db=sqlite3.connect('person.db')\n",
    "c=db.cursor()"
   ]
  },
  {
   "cell_type": "code",
   "execution_count": 39,
   "id": "89a28159",
   "metadata": {},
   "outputs": [],
   "source": [
    "db.close()"
   ]
  },
  {
   "cell_type": "code",
   "execution_count": 40,
   "id": "55a58fac",
   "metadata": {},
   "outputs": [],
   "source": [
    "db=sqlite3.connect('jobdb.db')"
   ]
  },
  {
   "cell_type": "code",
   "execution_count": 43,
   "id": "aff5a666",
   "metadata": {},
   "outputs": [
    {
     "data": {
      "text/plain": [
       "<sqlite3.Cursor at 0x19e6fd751f0>"
      ]
     },
     "execution_count": 43,
     "metadata": {},
     "output_type": "execute_result"
    }
   ],
   "source": [
    "c=db.cursor()\n",
    "c.execute('create table student(student_id int, student_name text, marks int, student_mailid text)')"
   ]
  },
  {
   "cell_type": "code",
   "execution_count": 45,
   "id": "2fb3ae3a",
   "metadata": {},
   "outputs": [
    {
     "ename": "OperationalError",
     "evalue": "table address already exists",
     "output_type": "error",
     "traceback": [
      "\u001b[1;31m---------------------------------------------------------------------------\u001b[0m",
      "\u001b[1;31mOperationalError\u001b[0m                          Traceback (most recent call last)",
      "Input \u001b[1;32mIn [45]\u001b[0m, in \u001b[0;36m<cell line: 1>\u001b[1;34m()\u001b[0m\n\u001b[1;32m----> 1\u001b[0m \u001b[43mc\u001b[49m\u001b[38;5;241;43m.\u001b[39;49m\u001b[43mexecute\u001b[49m\u001b[43m(\u001b[49m\u001b[38;5;124;43m'\u001b[39;49m\u001b[38;5;124;43mcreate table address(student_id int, pincode int, location text, nearby text, phone_no int)\u001b[39;49m\u001b[38;5;124;43m'\u001b[39;49m\u001b[43m)\u001b[49m\n",
      "\u001b[1;31mOperationalError\u001b[0m: table address already exists"
     ]
    }
   ],
   "source": [
    "c.execute('create table address(student_id int, pincode int, location text, nearby text, phone_no int)')"
   ]
  },
  {
   "cell_type": "code",
   "execution_count": 46,
   "id": "4a79f97e",
   "metadata": {},
   "outputs": [
    {
     "data": {
      "text/plain": [
       "<sqlite3.Cursor at 0x19e6fd751f0>"
      ]
     },
     "execution_count": 46,
     "metadata": {},
     "output_type": "execute_result"
    }
   ],
   "source": [
    "c.execute('drop table address')"
   ]
  },
  {
   "cell_type": "code",
   "execution_count": 47,
   "id": "351698db",
   "metadata": {},
   "outputs": [
    {
     "data": {
      "text/plain": [
       "<sqlite3.Cursor at 0x19e6fd751f0>"
      ]
     },
     "execution_count": 47,
     "metadata": {},
     "output_type": "execute_result"
    }
   ],
   "source": [
    "c.execute('create table address(student_id int, pincode int, location text, nearby text, phone_no int)')"
   ]
  },
  {
   "cell_type": "code",
   "execution_count": 48,
   "id": "ef4f8e9e",
   "metadata": {},
   "outputs": [
    {
     "data": {
      "text/plain": [
       "<sqlite3.Cursor at 0x19e6fd751f0>"
      ]
     },
     "execution_count": 48,
     "metadata": {},
     "output_type": "execute_result"
    }
   ],
   "source": [
    "c.execute(\"insert into student values(234,'sudhashu' , 'sudhanshu@ineuron.ai' , 234)\")\n",
    "c.execute(\"insert into student values(235,'sudhashu' , 'sudhanshu@ineuron.ai' , 234)\")\n",
    "c.execute(\"insert into student values(236,'sudhashu' , 'sudhanshu@ineuron.ai' , 234)\")\n",
    "c.execute(\"insert into student values(237,'sudhashu' , 'sudhanshu@ineuron.ai' , 234)\")\n",
    "c.execute(\"insert into student values(238,'sudhashu' , 'sudhanshu@ineuron.ai' , 234)\")\n",
    "c.execute(\"insert into student values(239,'sudhashu' , 'sudhanshu@ineuron.ai' , 234)\")\n",
    "c.execute(\"insert into student values(2310,'sudhashu' , 'sudhanshu@ineuron.ai' , 234)\")\n",
    "c.execute(\"insert into student values(2311,'sudhashu' , 'sudhanshu@ineuron.ai' , 234)\")\n",
    "c.execute(\"insert into student values(2343,'sudhashu' , 'sudhanshu@ineuron.ai' , 234)\")\n",
    "c.execute(\"insert into student values(233543,'sudhashu' , 'sudhanshu@ineuron.ai' , 234)\")\n",
    "c.execute(\"insert into student values(23345,'sudhashu' , 'sudhanshu@ineuron.ai' , 234)\")\n",
    "c.execute(\"insert into student values(233543,'sudhashu' , 'sudhanshu@ineuron.ai' , 234)\")"
   ]
  },
  {
   "cell_type": "code",
   "execution_count": 49,
   "id": "d4223174",
   "metadata": {},
   "outputs": [
    {
     "data": {
      "text/plain": [
       "<sqlite3.Cursor at 0x19e6fd751f0>"
      ]
     },
     "execution_count": 49,
     "metadata": {},
     "output_type": "execute_result"
    }
   ],
   "source": [
    "c.execute(\"insert into address values(236 , 560034 , 'whitefelid' ,'ineuron office ' , 2423543454353 )\")\n",
    "c.execute(\"insert into address values(237 , 560034 , 'whitefelid' ,'ineuron office ' , 2423543454353 )\")\n",
    "c.execute(\"insert into address values(238 , 560034 , 'whitefelid' ,'ineuron office ' , 2423543454353 )\")\n",
    "c.execute(\"insert into address values(239 , 560034 , 'whitefelid' ,'ineuron office ' , 2423543454353 )\")\n",
    "c.execute(\"insert into address values(210 , 560034 , 'whitefelid' ,'ineuron office ' , 2423543454353 )\")\n",
    "c.execute(\"insert into address values(23345 , 560034 , 'whitefelid' ,'ineuron office ' , 2423543454353 )\")\n",
    "c.execute(\"insert into address values(23345 , 560034 , 'whitefelid' ,'ineuron office ' , 2423543454353 )\")\n",
    "c.execute(\"insert into address values(23654 , 560034 , 'whitefelid' ,'ineuron office ' , 2423543454353 )\")\n",
    "c.execute(\"insert into address values(235345 , 560034 , 'whitefelid' ,'ineuron office ' , 2423543454353 )\")\n",
    "c.execute(\"insert into address values(23665 , 560034 , 'whitefelid' ,'ineuron office ' , 2423543454353 )\")\n",
    "c.execute(\"insert into address values(23623 , 560034 , 'whitefelid' ,'ineuron office ' , 2423543454353 )\")\n",
    "c.execute(\"insert into address values(23689 , 560034 , 'whitefelid' ,'ineuron office ' , 2423543454353 )\")\n",
    "c.execute(\"insert into address values(23609 , 560034 , 'whitefelid' ,'ineuron office ' , 2423543454353 )\")\n",
    "c.execute(\"insert into address values(23632 , 560034 , 'whitefelid' ,'ineuron office ' , 2423543454353 )\")\n",
    "c.execute(\"insert into address values(23689 , 560034 , 'whitefelid' ,'ineuron office ' , 2423543454353 )\")\n",
    "c.execute(\"insert into address values(23623 , 560034 , 'whitefelid' ,'ineuron office ' , 2423543454353 )\")\n",
    "c.execute(\"insert into address values(23698 , 560034 , 'whitefelid' ,'ineuron office ' , 2423543454353 )\")\n",
    "c.execute(\"insert into address values(23623 , 560034 , 'whitefelid' ,'ineuron office ' , 2423543454353 )\")\n",
    "c.execute(\"insert into address values(23689 , 560034 , 'whitefelid' ,'ineuron office ' , 2423543454353 )\")\n",
    "c.execute(\"insert into address values(23623 , 560034 , 'whitefelid' ,'ineuron office ' , 2423543454353 )\")\n",
    "c.execute(\"insert into address values(23690 , 560034 , 'whitefelid' ,'ineuron office ' , 2423543454353 )\")\n"
   ]
  },
  {
   "cell_type": "code",
   "execution_count": 50,
   "id": "a10198ab",
   "metadata": {},
   "outputs": [
    {
     "name": "stdout",
     "output_type": "stream",
     "text": [
      "(236, 560034, 'whitefelid', 'ineuron office ', 2423543454353)\n",
      "(237, 560034, 'whitefelid', 'ineuron office ', 2423543454353)\n",
      "(238, 560034, 'whitefelid', 'ineuron office ', 2423543454353)\n",
      "(239, 560034, 'whitefelid', 'ineuron office ', 2423543454353)\n",
      "(210, 560034, 'whitefelid', 'ineuron office ', 2423543454353)\n",
      "(23345, 560034, 'whitefelid', 'ineuron office ', 2423543454353)\n",
      "(23345, 560034, 'whitefelid', 'ineuron office ', 2423543454353)\n",
      "(23654, 560034, 'whitefelid', 'ineuron office ', 2423543454353)\n",
      "(235345, 560034, 'whitefelid', 'ineuron office ', 2423543454353)\n",
      "(23665, 560034, 'whitefelid', 'ineuron office ', 2423543454353)\n",
      "(23623, 560034, 'whitefelid', 'ineuron office ', 2423543454353)\n",
      "(23689, 560034, 'whitefelid', 'ineuron office ', 2423543454353)\n",
      "(23609, 560034, 'whitefelid', 'ineuron office ', 2423543454353)\n",
      "(23632, 560034, 'whitefelid', 'ineuron office ', 2423543454353)\n",
      "(23689, 560034, 'whitefelid', 'ineuron office ', 2423543454353)\n",
      "(23623, 560034, 'whitefelid', 'ineuron office ', 2423543454353)\n",
      "(23698, 560034, 'whitefelid', 'ineuron office ', 2423543454353)\n",
      "(23623, 560034, 'whitefelid', 'ineuron office ', 2423543454353)\n",
      "(23689, 560034, 'whitefelid', 'ineuron office ', 2423543454353)\n",
      "(23623, 560034, 'whitefelid', 'ineuron office ', 2423543454353)\n",
      "(23690, 560034, 'whitefelid', 'ineuron office ', 2423543454353)\n"
     ]
    }
   ],
   "source": [
    "for i in c.execute(\"select * from address\" ):\n",
    "    print(i)"
   ]
  },
  {
   "cell_type": "code",
   "execution_count": 53,
   "id": "45b78d81",
   "metadata": {},
   "outputs": [
    {
     "name": "stdout",
     "output_type": "stream",
     "text": [
      "(236, 'sudhashu', 'sudhanshu@ineuron.ai', '234', 236, 560034, 'whitefelid', 'ineuron office ', 2423543454353)\n",
      "(237, 'sudhashu', 'sudhanshu@ineuron.ai', '234', 237, 560034, 'whitefelid', 'ineuron office ', 2423543454353)\n",
      "(238, 'sudhashu', 'sudhanshu@ineuron.ai', '234', 238, 560034, 'whitefelid', 'ineuron office ', 2423543454353)\n",
      "(239, 'sudhashu', 'sudhanshu@ineuron.ai', '234', 239, 560034, 'whitefelid', 'ineuron office ', 2423543454353)\n",
      "(23345, 'sudhashu', 'sudhanshu@ineuron.ai', '234', 23345, 560034, 'whitefelid', 'ineuron office ', 2423543454353)\n",
      "(23345, 'sudhashu', 'sudhanshu@ineuron.ai', '234', 23345, 560034, 'whitefelid', 'ineuron office ', 2423543454353)\n"
     ]
    }
   ],
   "source": [
    "for i in c.execute(\"select * from student s left join address a on s.student_id=a.student_id where a.student_id is not null\"):\n",
    "    print(i)"
   ]
  },
  {
   "cell_type": "code",
   "execution_count": 54,
   "id": "cab78a4b",
   "metadata": {},
   "outputs": [
    {
     "name": "stdout",
     "output_type": "stream",
     "text": [
      "(236, 560034, 'whitefelid', 'ineuron office ', 2423543454353, 236, 'sudhashu', 'sudhanshu@ineuron.ai', '234')\n",
      "(237, 560034, 'whitefelid', 'ineuron office ', 2423543454353, 237, 'sudhashu', 'sudhanshu@ineuron.ai', '234')\n",
      "(238, 560034, 'whitefelid', 'ineuron office ', 2423543454353, 238, 'sudhashu', 'sudhanshu@ineuron.ai', '234')\n",
      "(239, 560034, 'whitefelid', 'ineuron office ', 2423543454353, 239, 'sudhashu', 'sudhanshu@ineuron.ai', '234')\n",
      "(210, 560034, 'whitefelid', 'ineuron office ', 2423543454353, None, None, None, None)\n",
      "(23345, 560034, 'whitefelid', 'ineuron office ', 2423543454353, 23345, 'sudhashu', 'sudhanshu@ineuron.ai', '234')\n",
      "(23345, 560034, 'whitefelid', 'ineuron office ', 2423543454353, 23345, 'sudhashu', 'sudhanshu@ineuron.ai', '234')\n",
      "(23654, 560034, 'whitefelid', 'ineuron office ', 2423543454353, None, None, None, None)\n",
      "(235345, 560034, 'whitefelid', 'ineuron office ', 2423543454353, None, None, None, None)\n",
      "(23665, 560034, 'whitefelid', 'ineuron office ', 2423543454353, None, None, None, None)\n",
      "(23623, 560034, 'whitefelid', 'ineuron office ', 2423543454353, None, None, None, None)\n",
      "(23689, 560034, 'whitefelid', 'ineuron office ', 2423543454353, None, None, None, None)\n",
      "(23609, 560034, 'whitefelid', 'ineuron office ', 2423543454353, None, None, None, None)\n",
      "(23632, 560034, 'whitefelid', 'ineuron office ', 2423543454353, None, None, None, None)\n",
      "(23689, 560034, 'whitefelid', 'ineuron office ', 2423543454353, None, None, None, None)\n",
      "(23623, 560034, 'whitefelid', 'ineuron office ', 2423543454353, None, None, None, None)\n",
      "(23698, 560034, 'whitefelid', 'ineuron office ', 2423543454353, None, None, None, None)\n",
      "(23623, 560034, 'whitefelid', 'ineuron office ', 2423543454353, None, None, None, None)\n",
      "(23689, 560034, 'whitefelid', 'ineuron office ', 2423543454353, None, None, None, None)\n",
      "(23623, 560034, 'whitefelid', 'ineuron office ', 2423543454353, None, None, None, None)\n",
      "(23690, 560034, 'whitefelid', 'ineuron office ', 2423543454353, None, None, None, None)\n"
     ]
    }
   ],
   "source": [
    "for i in c.execute(\"select * from address a left join student s on a.student_id=s.student_id \"):\n",
    "    print(i)"
   ]
  },
  {
   "cell_type": "code",
   "execution_count": 55,
   "id": "fb3ba105",
   "metadata": {},
   "outputs": [
    {
     "name": "stdout",
     "output_type": "stream",
     "text": [
      "(234, 'sudhashu', 'sudhanshu@ineuron.ai', '234')\n",
      "(235, 'sudhashu', 'sudhanshu@ineuron.ai', '234')\n",
      "(236, 'sudhashu', 'sudhanshu@ineuron.ai', '234')\n",
      "(237, 'sudhashu', 'sudhanshu@ineuron.ai', '234')\n",
      "(238, 'sudhashu', 'sudhanshu@ineuron.ai', '234')\n",
      "(239, 'sudhashu', 'sudhanshu@ineuron.ai', '234')\n",
      "(2310, 'sudhashu', 'sudhanshu@ineuron.ai', '234')\n",
      "(2311, 'sudhashu', 'sudhanshu@ineuron.ai', '234')\n",
      "(2343, 'sudhashu', 'sudhanshu@ineuron.ai', '234')\n",
      "(233543, 'sudhashu', 'sudhanshu@ineuron.ai', '234')\n",
      "(23345, 'sudhashu', 'sudhanshu@ineuron.ai', '234')\n",
      "(233543, 'sudhashu', 'sudhanshu@ineuron.ai', '234')\n"
     ]
    }
   ],
   "source": [
    "for i in c.execute(\"select * from student\"):\n",
    "    print(i)"
   ]
  },
  {
   "cell_type": "code",
   "execution_count": 59,
   "id": "3dd145de",
   "metadata": {},
   "outputs": [
    {
     "data": {
      "text/plain": [
       "<sqlite3.Cursor at 0x19e6fd751f0>"
      ]
     },
     "execution_count": 59,
     "metadata": {},
     "output_type": "execute_result"
    }
   ],
   "source": [
    "c.execute('delete from student where student_id>2000')\n",
    "\n",
    "   "
   ]
  },
  {
   "cell_type": "code",
   "execution_count": 60,
   "id": "92967167",
   "metadata": {},
   "outputs": [
    {
     "name": "stdout",
     "output_type": "stream",
     "text": [
      "(234, 'sudhashu', 'sudhanshu@ineuron.ai', '234')\n",
      "(235, 'sudhashu', 'sudhanshu@ineuron.ai', '234')\n",
      "(236, 'sudhashu', 'sudhanshu@ineuron.ai', '234')\n",
      "(237, 'sudhashu', 'sudhanshu@ineuron.ai', '234')\n",
      "(238, 'sudhashu', 'sudhanshu@ineuron.ai', '234')\n",
      "(239, 'sudhashu', 'sudhanshu@ineuron.ai', '234')\n"
     ]
    }
   ],
   "source": [
    "for i in c.execute('select * from student'):\n",
    "    print(i)"
   ]
  },
  {
   "cell_type": "code",
   "execution_count": 61,
   "id": "2e8ae6cb",
   "metadata": {},
   "outputs": [
    {
     "data": {
      "text/plain": [
       "<sqlite3.Cursor at 0x19e6fd751f0>"
      ]
     },
     "execution_count": 61,
     "metadata": {},
     "output_type": "execute_result"
    }
   ],
   "source": [
    "c.execute('update student set student_id = 1000 where student_id=236')"
   ]
  },
  {
   "cell_type": "code",
   "execution_count": 62,
   "id": "b8b886a8",
   "metadata": {},
   "outputs": [
    {
     "data": {
      "text/plain": [
       "[(234, 'sudhashu', 'sudhanshu@ineuron.ai', '234'),\n",
       " (235, 'sudhashu', 'sudhanshu@ineuron.ai', '234'),\n",
       " (1000, 'sudhashu', 'sudhanshu@ineuron.ai', '234'),\n",
       " (237, 'sudhashu', 'sudhanshu@ineuron.ai', '234'),\n",
       " (238, 'sudhashu', 'sudhanshu@ineuron.ai', '234'),\n",
       " (239, 'sudhashu', 'sudhanshu@ineuron.ai', '234')]"
      ]
     },
     "execution_count": 62,
     "metadata": {},
     "output_type": "execute_result"
    }
   ],
   "source": [
    "data=c.execute('select * from student')\n",
    "data.fetchall()"
   ]
  },
  {
   "cell_type": "code",
   "execution_count": 63,
   "id": "f1dece06",
   "metadata": {},
   "outputs": [],
   "source": [
    "db.close()"
   ]
  },
  {
   "cell_type": "code",
   "execution_count": 64,
   "id": "696ac369",
   "metadata": {},
   "outputs": [],
   "source": [
    "l=[1,2,3,4,5,6]"
   ]
  },
  {
   "cell_type": "code",
   "execution_count": 66,
   "id": "0d4ea8e5",
   "metadata": {},
   "outputs": [],
   "source": [
    "l1=[]\n",
    "for i in l:\n",
    "    l1.append(i+5)"
   ]
  },
  {
   "cell_type": "code",
   "execution_count": 67,
   "id": "a722e03f",
   "metadata": {},
   "outputs": [
    {
     "data": {
      "text/plain": [
       "[6, 7, 8, 9, 10, 11]"
      ]
     },
     "execution_count": 67,
     "metadata": {},
     "output_type": "execute_result"
    }
   ],
   "source": [
    "l1\n"
   ]
  },
  {
   "cell_type": "code",
   "execution_count": 68,
   "id": "f1f6cab4",
   "metadata": {},
   "outputs": [
    {
     "data": {
      "text/plain": [
       "[6, 7, 8, 9, 10, 11]"
      ]
     },
     "execution_count": 68,
     "metadata": {},
     "output_type": "execute_result"
    }
   ],
   "source": [
    "def test(a):\n",
    "    return a+5\n",
    "list(map(test,l))"
   ]
  },
  {
   "cell_type": "code",
   "execution_count": 71,
   "id": "c89091d5",
   "metadata": {},
   "outputs": [],
   "source": [
    "l1=['234','6','90']"
   ]
  },
  {
   "cell_type": "code",
   "execution_count": 72,
   "id": "197ca0a5",
   "metadata": {},
   "outputs": [
    {
     "data": {
      "text/plain": [
       "[234, 6, 90]"
      ]
     },
     "execution_count": 72,
     "metadata": {},
     "output_type": "execute_result"
    }
   ],
   "source": [
    "list(map(lambda x: int(x),l1))"
   ]
  },
  {
   "cell_type": "code",
   "execution_count": null,
   "id": "5ad24d9b",
   "metadata": {},
   "outputs": [],
   "source": [
    "l=[2,3,4,5,6,7,8]"
   ]
  },
  {
   "cell_type": "code",
   "execution_count": 74,
   "id": "991a8d40",
   "metadata": {},
   "outputs": [
    {
     "data": {
      "text/plain": [
       "[2, 4, 6]"
      ]
     },
     "execution_count": 74,
     "metadata": {},
     "output_type": "execute_result"
    }
   ],
   "source": [
    "def test1(a):\n",
    "    if(a%2==0):\n",
    "        return a\n",
    "list(filter(test1,l))"
   ]
  },
  {
   "cell_type": "code",
   "execution_count": 75,
   "id": "22bd4e0c",
   "metadata": {},
   "outputs": [],
   "source": [
    "from functools import reduce"
   ]
  },
  {
   "cell_type": "code",
   "execution_count": 76,
   "id": "41abf311",
   "metadata": {},
   "outputs": [
    {
     "data": {
      "text/plain": [
       "21"
      ]
     },
     "execution_count": 76,
     "metadata": {},
     "output_type": "execute_result"
    }
   ],
   "source": [
    "def test2(a,b):\n",
    "     return a+b\n",
    "\n",
    "reduce(test2,l)\n",
    "#reduce takes 1 or 2 arguments only not more than that"
   ]
  },
  {
   "cell_type": "code",
   "execution_count": 78,
   "id": "a77c7acf",
   "metadata": {},
   "outputs": [
    {
     "data": {
      "text/plain": [
       "3"
      ]
     },
     "execution_count": 78,
     "metadata": {},
     "output_type": "execute_result"
    }
   ],
   "source": [
    "l=[3]\n",
    "reduce(test2,l)"
   ]
  },
  {
   "cell_type": "code",
   "execution_count": 79,
   "id": "07895eec",
   "metadata": {},
   "outputs": [
    {
     "data": {
      "text/plain": [
       "[(1, 5), (2, 6), (3, 7), (4, 8)]"
      ]
     },
     "execution_count": 79,
     "metadata": {},
     "output_type": "execute_result"
    }
   ],
   "source": [
    "l=[1,2,3,4]\n",
    "l1=[5,6,7,8]\n",
    "list(zip(l,l1))"
   ]
  },
  {
   "cell_type": "code",
   "execution_count": null,
   "id": "c91caf92",
   "metadata": {},
   "outputs": [],
   "source": []
  }
 ],
 "metadata": {
  "kernelspec": {
   "display_name": "Python 3 (ipykernel)",
   "language": "python",
   "name": "python3"
  },
  "language_info": {
   "codemirror_mode": {
    "name": "ipython",
    "version": 3
   },
   "file_extension": ".py",
   "mimetype": "text/x-python",
   "name": "python",
   "nbconvert_exporter": "python",
   "pygments_lexer": "ipython3",
   "version": "3.8.8"
  }
 },
 "nbformat": 4,
 "nbformat_minor": 5
}
